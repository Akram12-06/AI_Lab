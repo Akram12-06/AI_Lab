{
 "cells": [
  {
   "cell_type": "code",
   "execution_count": 49,
   "id": "493e32d3",
   "metadata": {},
   "outputs": [
    {
     "name": "stdout",
     "output_type": "stream",
     "text": [
      "[10]\n"
     ]
    }
   ],
   "source": [
    "graph,cost= [[] for i in range(8)],{}\n",
    "\n",
    "graph[0].append(1)\n",
    "graph[0].append(3)\n",
    "graph[3].append(1)\n",
    "graph[3].append(6)\n",
    "graph[3].append(4)\n",
    "graph[1].append(6)\n",
    "graph[4].append(2)\n",
    "graph[4].append(5)\n",
    "graph[2].append(1)\n",
    "graph[5].append(2)\n",
    "graph[5].append(6)\n",
    "graph[6].append(4)\n",
    " \n",
    "    # add the cost\n",
    "cost[(0, 1)] = 2\n",
    "cost[(0, 3)] = 5\n",
    "cost[(1, 6)] = 1\n",
    "cost[(3, 1)] = 5\n",
    "cost[(3, 6)] = 6\n",
    "cost[(3, 4)] = 2\n",
    "cost[(2, 1)] = 4\n",
    "cost[(4, 2)] = 4\n",
    "cost[(4, 5)] = 3\n",
    "cost[(5, 2)] = 6\n",
    "cost[(5, 6)] = 3\n",
    "cost[(6, 4)] = 7\n",
    "\n",
    "goal=[]\n",
    "goal.append(5)\n",
    "\n",
    "def uniform_cost(graph,goal,start,cost):\n",
    "    answer=[]\n",
    "    visited=[] # To check wheather nodes are visited or not\n",
    "    count=0    #To check wheather all goal nodes visited ot not\n",
    "    pri_queue=[]\n",
    "    \n",
    "    \n",
    "    \n",
    "    for i in range(len(goal)):\n",
    "        answer.append(10**8)\n",
    "        \n",
    "    pri_queue.append([0,start])  # adding nodes in the form of (cost,node)\n",
    "    \n",
    "    while(len(pri_queue)>0):\n",
    "        \n",
    "        pri_queue.sort()        #sort according to cost\n",
    "        tmp=pri_queue.pop(0)    \n",
    "        \n",
    "        if(tmp[1] in goal):\n",
    "            \n",
    "            idx=goal.index(tmp[1])\n",
    "            \n",
    "            if(answer[idx]==10**8):\n",
    "                count+=1\n",
    "                \n",
    "            if(answer[idx]>tmp[0]):\n",
    "                answer[idx]=tmp[0]\n",
    "                \n",
    "            if(count==len(goal)):   # If all goal Nodes are visied then return answer\n",
    "                return answer\n",
    "            \n",
    "        if(tmp[1] not in visited):\n",
    "            \n",
    "            for i in (graph[tmp[1]]):\n",
    "                \n",
    "                pri_queue.append([tmp[0]+cost[(tmp[1],i)],i])\n",
    "                \n",
    "        visited.append(tmp[1])\n",
    "        \n",
    "    return answer\n",
    "            \n",
    "            \n",
    "print(uniform_cost(graph,goal,0,cost))               \n",
    "            \n",
    "            \n",
    "            "
   ]
  },
  {
   "cell_type": "code",
   "execution_count": 13,
   "id": "4e3e9244",
   "metadata": {},
   "outputs": [
    {
     "name": "stdout",
     "output_type": "stream",
     "text": [
      "The optimal value is : 12\n"
     ]
    }
   ],
   "source": [
    "import math\n",
    "\n",
    "def minmax(curDepth,nodeIndex,maxTurn,scores,targetDepth):\n",
    "    \n",
    "    if(curDepth==targetDepth):\n",
    "        return scores[nodeIndex]\n",
    "    \n",
    "    if(maxTurn):\n",
    "        \n",
    "        return max(minmax(curDepth+1,nodeIndex*2,False,scores,targetDepth)\n",
    "                   ,minmax(curDepth+1,nodeIndex*2+1,False,scores,targetDepth))\n",
    "\n",
    "    else:\n",
    "        return min(minmax(curDepth+1,nodeIndex*2,True,scores,targetDepth)\n",
    "                   ,minmax(curDepth+1,nodeIndex*2+1,True,scores,targetDepth))\n",
    "\n",
    "\n",
    "\n",
    "\n",
    "scores = [3, 5, 2, 9, 12, 5, 23, 23]\n",
    "treeDepth = math.log(len(scores), 2)\n",
    "print(\"The optimal value is : \", end = \"\")\n",
    "print(minmax(0, 0, True, scores, treeDepth))"
   ]
  },
  {
   "cell_type": "code",
   "execution_count": 18,
   "id": "22f970c5",
   "metadata": {},
   "outputs": [
    {
     "name": "stdout",
     "output_type": "stream",
     "text": [
      "The optimal value is : 3\n"
     ]
    }
   ],
   "source": [
    "\n",
    "MAX,MIN = 1000,-1000\n",
    "\n",
    "def minimax(depth,nodeIndex,maximizingPlayer,values,alpha,beta,treeDepth):\n",
    "    \n",
    "    if(depth==treeDepth):\n",
    "        return values[nodeIndex]\n",
    "    if maximizingPlayer:\n",
    "        \n",
    "        best=MIN\n",
    "        \n",
    "        for i in range(0,1):\n",
    "            val=minimax(depth+1,nodeIndex*2+i,False,values,alpha,beta,treeDepth)\n",
    "            best=max(best,val)\n",
    "            alpha=max(alpha,best)\n",
    "            if beta <= alpha:\n",
    "                break\n",
    "        return best\n",
    "    \n",
    "    else:\n",
    "        \n",
    "        best=MAX\n",
    "        for i in range(0,2):\n",
    "            val=minimax(depth+1,nodeIndex*2+i,True,values,alpha,beta,treeDepth)\n",
    "            best=min(best,val)\n",
    "            beta=min(best,beta)\n",
    "            if beta <= alpha:\n",
    "                break\n",
    "            \n",
    "        return best\n",
    "    \n",
    "values = [3, 5, 6, 9, 1, 2, 0, -1] \n",
    "treeDepth = math.log(len(values), 2)\n",
    "print(\"The optimal value is :\", minimax(0, 0, True, values, MIN, MAX,treeDepth))"
   ]
  }
 ],
 "metadata": {
  "kernelspec": {
   "display_name": "Python 3 (ipykernel)",
   "language": "python",
   "name": "python3"
  },
  "language_info": {
   "codemirror_mode": {
    "name": "ipython",
    "version": 3
   },
   "file_extension": ".py",
   "mimetype": "text/x-python",
   "name": "python",
   "nbconvert_exporter": "python",
   "pygments_lexer": "ipython3",
   "version": "3.9.7"
  }
 },
 "nbformat": 4,
 "nbformat_minor": 5
}
